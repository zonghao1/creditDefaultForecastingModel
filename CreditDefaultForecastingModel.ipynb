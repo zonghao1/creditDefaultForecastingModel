{
 "cells": [
  {
   "cell_type": "code",
   "execution_count": 1,
   "metadata": {
    "collapsed": true
   },
   "outputs": [],
   "source": [
    "import pandas as pd\n",
    "import numpy as np"
   ]
  },
  {
   "cell_type": "code",
   "execution_count": 35,
   "metadata": {},
   "outputs": [
    {
     "data": {
      "text/plain": [
       "(10000, 96)"
      ]
     },
     "execution_count": 35,
     "metadata": {},
     "output_type": "execute_result"
    }
   ],
   "source": [
    "#load the data\n",
    "# Please change path to the location of CreditModelData1.csv in your computer to preceed further steps!\n",
    "path = 'CreditModelData1.csv'\n",
    "data1 = pd.read_csv(path,engine='python')\n",
    "data1.shape"
   ]
  },
  {
   "cell_type": "code",
   "execution_count": 3,
   "metadata": {
    "collapsed": true
   },
   "outputs": [],
   "source": [
    "#change dependent variable into 0/1\n",
    "default = pd.Series(data1['S&P Entity Credit Rating Action [3/3/2008-3/5/2018]'])\n",
    "\n",
    "default1 = np.where(default=='-', 0, 1)\n",
    "\n",
    "del data1['S&P Entity Credit Rating Action [3/3/2008-3/5/2018]']\n"
   ]
  },
  {
   "cell_type": "code",
   "execution_count": 4,
   "metadata": {},
   "outputs": [],
   "source": [
    "# The original dataset use '-' and 'NM' for missing data, change them into np.NaN \n",
    "isUnderLine = data1 == str('-')\n",
    "isNM = data1 ==str('NM')\n",
    "\n",
    "data1 = data1.mask(isUnderLine,np.NaN)\n",
    "data1 = data1.mask(isNM,np.NaN)"
   ]
  },
  {
   "cell_type": "code",
   "execution_count": 5,
   "metadata": {
    "collapsed": true
   },
   "outputs": [],
   "source": [
    "data1['default'] = default1"
   ]
  },
  {
   "cell_type": "code",
   "execution_count": 6,
   "metadata": {
    "collapsed": true
   },
   "outputs": [],
   "source": [
    "data1 = data1.drop('Company Type',axis=1)"
   ]
  },
  {
   "cell_type": "code",
   "execution_count": 7,
   "metadata": {
    "collapsed": true
   },
   "outputs": [],
   "source": [
    "# Delete all columns that contain all missing value\n",
    "for name in data1.columns[data1.isnull().all()]:\n",
    "    del data1[name]"
   ]
  },
  {
   "cell_type": "code",
   "execution_count": 8,
   "metadata": {
    "collapsed": true
   },
   "outputs": [],
   "source": [
    "# Delete all rows that contain all missing value\n",
    "numbers = data1.iloc[:,3:-2]\n",
    "emptyRow = []\n",
    "for row in range(len(data1)):\n",
    "    if(numbers.iloc[row].isnull().all()):\n",
    "        emptyRow.append(row)\n",
    "\n",
    "\n",
    "data1 = data1.drop(emptyRow,axis=0)\n",
    "\n",
    "data1.index = np.arange(data1.shape[0])"
   ]
  },
  {
   "cell_type": "code",
   "execution_count": 9,
   "metadata": {
    "collapsed": true
   },
   "outputs": [],
   "source": [
    "# Change the data type from string into float in order to do mathematical operation\n",
    "data1.iloc[:,3:75] = data1.iloc[:,3:75].astype(np.float)"
   ]
  },
  {
   "cell_type": "code",
   "execution_count": 10,
   "metadata": {},
   "outputs": [
    {
     "data": {
      "text/plain": [
       "Company Name                                                                                             7086\n",
       "Exchange:Ticker                                                                                          4532\n",
       "S&P Entity ID                                                                                             970\n",
       "EBITDA - Capital IQ [CY 2008] ($USDmm, Historical rate)                                                  3622\n",
       "EBITDA - Capital IQ [CY 2009] ($USDmm, Historical rate)                                                  3660\n",
       "EBITDA - Capital IQ [CY 2010] ($USDmm, Historical rate)                                                  3657\n",
       "EBITDA - Capital IQ [CY 2011] ($USDmm, Historical rate)                                                  3725\n",
       "EBITDA - Capital IQ [CY 2012] ($USDmm, Historical rate)                                                  3696\n",
       "EBITDA - Capital IQ [CY 2013] ($USDmm, Historical rate)                                                  3736\n",
       "EBITDA - Capital IQ [CY 2014] ($USDmm, Historical rate)                                                  3744\n",
       "EBITDA - Capital IQ [CY 2015] ($USDmm, Historical rate)                                                  3691\n",
       "EBITDA - Capital IQ [CY 2016] ($USDmm, Historical rate)                                                  3543\n",
       "EBITDA - Capital IQ [CY 2017] ($USDmm, Historical rate)                                                  1806\n",
       "Interest Expense - Capital IQ [CY 2008] ($USDmm, Historical rate)                                        3622\n",
       "Interest Expense - Capital IQ [CY 2009] ($USDmm, Historical rate)                                        3660\n",
       "Interest Expense - Capital IQ [CY 2010] ($USDmm, Historical rate)                                        3657\n",
       "Interest Expense - Capital IQ [CY 2011] ($USDmm, Historical rate)                                        3725\n",
       "Interest Expense - Capital IQ [CY 2012] ($USDmm, Historical rate)                                        3696\n",
       "Interest Expense - Capital IQ [CY 2013] ($USDmm, Historical rate)                                        3736\n",
       "Interest Expense - Capital IQ [CY 2014] ($USDmm, Historical rate)                                        3744\n",
       "Interest Expense - Capital IQ [CY 2015] ($USDmm, Historical rate)                                        3691\n",
       "Interest Expense - Capital IQ [CY 2016] ($USDmm, Historical rate)                                        3543\n",
       "Interest Expense - Capital IQ [CY 2017] ($USDmm, Historical rate)                                        1806\n",
       "Total Debt/Equity % - Capital IQ [Latest Quarter - 36]                                                   1163\n",
       "Total Debt/Equity % - Capital IQ [Latest Quarter - 32]                                                   1183\n",
       "Total Debt/Equity % - Capital IQ [Latest Quarter - 28]                                                   1271\n",
       "Total Debt/Equity % - Capital IQ [Latest Quarter - 24]                                                   1357\n",
       "Total Debt/Equity % - Capital IQ [Latest Quarter - 20]                                                   1476\n",
       "Total Debt/Equity % - Capital IQ [Latest Quarter - 16]                                                   1655\n",
       "Total Debt/Equity % - Capital IQ [Latest Quarter - 12]                                                   1906\n",
       "                                                                                                         ... \n",
       "Operating Lease Commitment Due, Next 5 Yrs - Capital IQ [Latest Annual - 5] ($USDmm, Historical rate)    3449\n",
       "Operating Lease Commitment Due, Next 5 Yrs - Capital IQ [Latest Annual - 4] ($USDmm, Historical rate)    3791\n",
       "Operating Lease Commitment Due, Next 5 Yrs - Capital IQ [Latest Annual - 3] ($USDmm, Historical rate)    4212\n",
       "Operating Lease Commitment Due, Next 5 Yrs - Capital IQ [Latest Annual - 2] ($USDmm, Historical rate)    4691\n",
       "Operating Lease Commitment Due, Next 5 Yrs - Capital IQ [Latest Annual - 1] ($USDmm, Historical rate)    5312\n",
       "Operating Lease Commitment Due, Next 5 Yrs - Capital IQ [Latest Annual] ($USDmm, Historical rate)        3573\n",
       "Free Operating Cash Flow/Debt (%), Adj. - Credit Stats Direct [LTM]                                       438\n",
       "Current Ratio (%), Adj. - Credit Stats Direct [LTM]                                                       448\n",
       "Total Debt/Capital % - Capital IQ [Latest Quarter - 36]                                                  1260\n",
       "Total Debt/Capital % - Capital IQ [Latest Quarter - 32]                                                  1299\n",
       "Total Debt/Capital % - Capital IQ [Latest Quarter - 28]                                                  1400\n",
       "Total Debt/Capital % - Capital IQ [Latest Quarter - 24]                                                  1494\n",
       "Total Debt/Capital % - Capital IQ [Latest Quarter - 20]                                                  1640\n",
       "Total Debt/Capital % - Capital IQ [Latest Quarter - 16]                                                  1834\n",
       "Total Debt/Capital % - Capital IQ [Latest Quarter - 12]                                                  2156\n",
       "Total Debt/Capital % - Capital IQ [Latest Quarter - 8]                                                   2390\n",
       "Total Debt/Capital % - Capital IQ [Latest Quarter - 4]                                                   2634\n",
       "Total Debt/Capital % - Capital IQ [Latest Quarter]                                                       1962\n",
       "Unlevered Free Cash Flow - Capital IQ [CY 2008] ($USDmm, Historical rate)                                3444\n",
       "Unlevered Free Cash Flow - Capital IQ [CY 2009] ($USDmm, Historical rate)                                3473\n",
       "Unlevered Free Cash Flow - Capital IQ [CY 2010] ($USDmm, Historical rate)                                3487\n",
       "Unlevered Free Cash Flow - Capital IQ [CY 2011] ($USDmm, Historical rate)                                3571\n",
       "Unlevered Free Cash Flow - Capital IQ [CY 2012] ($USDmm, Historical rate)                                3559\n",
       "Unlevered Free Cash Flow - Capital IQ [CY 2013] ($USDmm, Historical rate)                                3607\n",
       "Unlevered Free Cash Flow - Capital IQ [CY 2014] ($USDmm, Historical rate)                                3624\n",
       "Unlevered Free Cash Flow - Capital IQ [CY 2015] ($USDmm, Historical rate)                                3598\n",
       "Unlevered Free Cash Flow - Capital IQ [CY 2016] ($USDmm, Historical rate)                                3453\n",
       "Unlevered Free Cash Flow - Capital IQ [CY 2017] ($USDmm, Historical rate)                                1395\n",
       "Geographic Locations                                                                                     7086\n",
       "default                                                                                                  7086\n",
       "Length: 77, dtype: int64"
      ]
     },
     "execution_count": 10,
     "metadata": {},
     "output_type": "execute_result"
    }
   ],
   "source": [
    "np.sum(data1.isnull()==False, axis=0)"
   ]
  },
  {
   "cell_type": "markdown",
   "metadata": {},
   "source": [
    "We found out that all columns for free operating cash flow/debt and current ratio were deleted except two that only containg 438 and 448 values. Since we could not predict missing values for these categories using past year/previous year's record, and we want to keep these columns. We fill these columns with column mean. "
   ]
  },
  {
   "cell_type": "code",
   "execution_count": 11,
   "metadata": {},
   "outputs": [],
   "source": [
    "data1['Free Operating Cash Flow/Debt (%), Adj. - Credit Stats Direct [LTM]'] = data1['Free Operating Cash Flow/Debt (%), Adj. - Credit Stats Direct [LTM]'].fillna(data1['Free Operating Cash Flow/Debt (%), Adj. - Credit Stats Direct [LTM]'].mean())\n",
    "\n",
    "data1['Free Operating Cash Flow/Debt (%), Adj. - Credit Stats Direct [LTM]'] = data1['Current Ratio (%), Adj. - Credit Stats Direct [LTM]'].fillna(data1['Current Ratio (%), Adj. - Credit Stats Direct [LTM]'].mean())"
   ]
  },
  {
   "cell_type": "code",
   "execution_count": 12,
   "metadata": {
    "collapsed": true
   },
   "outputs": [],
   "source": [
    "# Divide remaining columns into 9 categories and delete rows that doesn't have any value in any of these 9 categories\n",
    "columnNumber = [np.arange(3,13),np.arange(13,23),np.arange(23,33),np.arange(33,43),np.arange(43,53),\n",
    "               np.arange(55,65),np.arange(65,75)]\n",
    "\n",
    "allNullOneCategory = data1.iloc[:,np.arange(3,13)].isnull().all(axis=1)\n",
    "for category in columnNumber:\n",
    "    allNullOneCategory = (allNullOneCategory | data1.iloc[:,category].isnull().all(axis=1))\n",
    "\n",
    "data = data1[allNullOneCategory!=True]"
   ]
  },
  {
   "cell_type": "code",
   "execution_count": 15,
   "metadata": {},
   "outputs": [
    {
     "data": {
      "text/plain": [
       "(2509, 77)"
      ]
     },
     "execution_count": 15,
     "metadata": {},
     "output_type": "execute_result"
    }
   ],
   "source": [
    "data.shape"
   ]
  },
  {
   "cell_type": "markdown",
   "metadata": {},
   "source": [
    "So there are 2509 companies left with at least one value in each financial category."
   ]
  },
  {
   "cell_type": "code",
   "execution_count": 16,
   "metadata": {},
   "outputs": [],
   "source": [
    "companyName = data['Company Name']"
   ]
  },
  {
   "cell_type": "code",
   "execution_count": 17,
   "metadata": {},
   "outputs": [],
   "source": [
    "# For each category, we use the mean of avaiable values of each company to fill in missing values\n",
    "frames = []\n",
    "for category in columnNumber:\n",
    "    newData = data.iloc[:,category].T.fillna(np.mean(data.iloc[:,category].T)).T\n",
    "    frames.append(newData)\n",
    "\n",
    "frames.append(data.iloc[:,76:])\n",
    "\n",
    "finalData = pd.concat(frames,axis=1)\n",
    "\n",
    "finalData.index = companyName"
   ]
  },
  {
   "cell_type": "code",
   "execution_count": 21,
   "metadata": {},
   "outputs": [
    {
     "data": {
      "text/html": [
       "<div>\n",
       "<style>\n",
       "    .dataframe thead tr:only-child th {\n",
       "        text-align: right;\n",
       "    }\n",
       "\n",
       "    .dataframe thead th {\n",
       "        text-align: left;\n",
       "    }\n",
       "\n",
       "    .dataframe tbody tr th {\n",
       "        vertical-align: top;\n",
       "    }\n",
       "</style>\n",
       "<table border=\"1\" class=\"dataframe\">\n",
       "  <thead>\n",
       "    <tr style=\"text-align: right;\">\n",
       "      <th></th>\n",
       "      <th>EBITDA - Capital IQ [CY 2008] ($USDmm, Historical rate)</th>\n",
       "      <th>EBITDA - Capital IQ [CY 2009] ($USDmm, Historical rate)</th>\n",
       "      <th>EBITDA - Capital IQ [CY 2010] ($USDmm, Historical rate)</th>\n",
       "      <th>EBITDA - Capital IQ [CY 2011] ($USDmm, Historical rate)</th>\n",
       "      <th>EBITDA - Capital IQ [CY 2012] ($USDmm, Historical rate)</th>\n",
       "      <th>EBITDA - Capital IQ [CY 2013] ($USDmm, Historical rate)</th>\n",
       "      <th>EBITDA - Capital IQ [CY 2014] ($USDmm, Historical rate)</th>\n",
       "      <th>EBITDA - Capital IQ [CY 2015] ($USDmm, Historical rate)</th>\n",
       "      <th>EBITDA - Capital IQ [CY 2016] ($USDmm, Historical rate)</th>\n",
       "      <th>EBITDA - Capital IQ [CY 2017] ($USDmm, Historical rate)</th>\n",
       "      <th>...</th>\n",
       "      <th>Unlevered Free Cash Flow - Capital IQ [CY 2009] ($USDmm, Historical rate)</th>\n",
       "      <th>Unlevered Free Cash Flow - Capital IQ [CY 2010] ($USDmm, Historical rate)</th>\n",
       "      <th>Unlevered Free Cash Flow - Capital IQ [CY 2011] ($USDmm, Historical rate)</th>\n",
       "      <th>Unlevered Free Cash Flow - Capital IQ [CY 2012] ($USDmm, Historical rate)</th>\n",
       "      <th>Unlevered Free Cash Flow - Capital IQ [CY 2013] ($USDmm, Historical rate)</th>\n",
       "      <th>Unlevered Free Cash Flow - Capital IQ [CY 2014] ($USDmm, Historical rate)</th>\n",
       "      <th>Unlevered Free Cash Flow - Capital IQ [CY 2015] ($USDmm, Historical rate)</th>\n",
       "      <th>Unlevered Free Cash Flow - Capital IQ [CY 2016] ($USDmm, Historical rate)</th>\n",
       "      <th>Unlevered Free Cash Flow - Capital IQ [CY 2017] ($USDmm, Historical rate)</th>\n",
       "      <th>default</th>\n",
       "    </tr>\n",
       "    <tr>\n",
       "      <th>Company Name</th>\n",
       "      <th></th>\n",
       "      <th></th>\n",
       "      <th></th>\n",
       "      <th></th>\n",
       "      <th></th>\n",
       "      <th></th>\n",
       "      <th></th>\n",
       "      <th></th>\n",
       "      <th></th>\n",
       "      <th></th>\n",
       "      <th></th>\n",
       "      <th></th>\n",
       "      <th></th>\n",
       "      <th></th>\n",
       "      <th></th>\n",
       "      <th></th>\n",
       "      <th></th>\n",
       "      <th></th>\n",
       "      <th></th>\n",
       "      <th></th>\n",
       "      <th></th>\n",
       "    </tr>\n",
       "  </thead>\n",
       "  <tbody>\n",
       "    <tr>\n",
       "      <th>024 Pharma, Inc. (OTCPK:EEIG)</th>\n",
       "      <td>-0.4970</td>\n",
       "      <td>-0.5250</td>\n",
       "      <td>-0.5420</td>\n",
       "      <td>-0.4400</td>\n",
       "      <td>-0.368</td>\n",
       "      <td>-0.295</td>\n",
       "      <td>-0.398</td>\n",
       "      <td>-0.446</td>\n",
       "      <td>0.624</td>\n",
       "      <td>-0.320778</td>\n",
       "      <td>...</td>\n",
       "      <td>0.994</td>\n",
       "      <td>-1.490</td>\n",
       "      <td>-0.152</td>\n",
       "      <td>-0.121</td>\n",
       "      <td>-0.065</td>\n",
       "      <td>-0.785</td>\n",
       "      <td>0.227</td>\n",
       "      <td>-0.3465</td>\n",
       "      <td>-0.346500</td>\n",
       "      <td>0</td>\n",
       "    </tr>\n",
       "    <tr>\n",
       "      <th>1-800-FLOWERS.COM, Inc. (NasdaqGS:FLWS)</th>\n",
       "      <td>53.2000</td>\n",
       "      <td>31.4000</td>\n",
       "      <td>28.8000</td>\n",
       "      <td>33.5000</td>\n",
       "      <td>42.300</td>\n",
       "      <td>46.400</td>\n",
       "      <td>103.400</td>\n",
       "      <td>79.600</td>\n",
       "      <td>78.900</td>\n",
       "      <td>70.800000</td>\n",
       "      <td>...</td>\n",
       "      <td>47.500</td>\n",
       "      <td>5.470</td>\n",
       "      <td>24.700</td>\n",
       "      <td>24.600</td>\n",
       "      <td>16.500</td>\n",
       "      <td>104.000</td>\n",
       "      <td>21.800</td>\n",
       "      <td>23.9000</td>\n",
       "      <td>77.600000</td>\n",
       "      <td>0</td>\n",
       "    </tr>\n",
       "    <tr>\n",
       "      <th>1347 Property Insurance Holdings, Inc. (NasdaqGM:PIH)</th>\n",
       "      <td>1.7682</td>\n",
       "      <td>1.7682</td>\n",
       "      <td>1.7682</td>\n",
       "      <td>1.7682</td>\n",
       "      <td>0.000</td>\n",
       "      <td>-1.130</td>\n",
       "      <td>5.760</td>\n",
       "      <td>3.670</td>\n",
       "      <td>0.541</td>\n",
       "      <td>1.768200</td>\n",
       "      <td>...</td>\n",
       "      <td>6.218</td>\n",
       "      <td>6.218</td>\n",
       "      <td>6.218</td>\n",
       "      <td>0.000</td>\n",
       "      <td>6.750</td>\n",
       "      <td>13.500</td>\n",
       "      <td>9.080</td>\n",
       "      <td>1.7600</td>\n",
       "      <td>6.218000</td>\n",
       "      <td>0</td>\n",
       "    </tr>\n",
       "    <tr>\n",
       "      <th>2050 Motors, Inc. (OTCPK:ETFM)</th>\n",
       "      <td>-0.3936</td>\n",
       "      <td>-0.3936</td>\n",
       "      <td>-0.3936</td>\n",
       "      <td>-0.3936</td>\n",
       "      <td>0.000</td>\n",
       "      <td>0.000</td>\n",
       "      <td>-0.534</td>\n",
       "      <td>-0.698</td>\n",
       "      <td>-0.736</td>\n",
       "      <td>-0.393600</td>\n",
       "      <td>...</td>\n",
       "      <td>-0.131</td>\n",
       "      <td>-0.131</td>\n",
       "      <td>-0.131</td>\n",
       "      <td>-0.131</td>\n",
       "      <td>0.000</td>\n",
       "      <td>-0.350</td>\n",
       "      <td>-0.450</td>\n",
       "      <td>0.2760</td>\n",
       "      <td>-0.131000</td>\n",
       "      <td>0</td>\n",
       "    </tr>\n",
       "    <tr>\n",
       "      <th>22nd Century Group, Inc. (AMEX:XXII)</th>\n",
       "      <td>-0.6010</td>\n",
       "      <td>-0.8140</td>\n",
       "      <td>-0.9330</td>\n",
       "      <td>-3.5800</td>\n",
       "      <td>-3.050</td>\n",
       "      <td>1.960</td>\n",
       "      <td>-11.300</td>\n",
       "      <td>-11.300</td>\n",
       "      <td>-10.500</td>\n",
       "      <td>-4.457556</td>\n",
       "      <td>...</td>\n",
       "      <td>0.219</td>\n",
       "      <td>0.110</td>\n",
       "      <td>-4.280</td>\n",
       "      <td>-1.020</td>\n",
       "      <td>-1.840</td>\n",
       "      <td>-5.750</td>\n",
       "      <td>-2.030</td>\n",
       "      <td>-5.7700</td>\n",
       "      <td>-2.262333</td>\n",
       "      <td>0</td>\n",
       "    </tr>\n",
       "  </tbody>\n",
       "</table>\n",
       "<p>5 rows × 71 columns</p>\n",
       "</div>"
      ],
      "text/plain": [
       "                                                    EBITDA - Capital IQ [CY 2008] ($USDmm, Historical rate)  \\\n",
       "Company Name                                                                                                  \n",
       "024 Pharma, Inc. (OTCPK:EEIG)                                                                 -0.4970         \n",
       "1-800-FLOWERS.COM, Inc. (NasdaqGS:FLWS)                                                       53.2000         \n",
       "1347 Property Insurance Holdings, Inc. (NasdaqG...                                             1.7682         \n",
       "2050 Motors, Inc. (OTCPK:ETFM)                                                                -0.3936         \n",
       "22nd Century Group, Inc. (AMEX:XXII)                                                          -0.6010         \n",
       "\n",
       "                                                    EBITDA - Capital IQ [CY 2009] ($USDmm, Historical rate)  \\\n",
       "Company Name                                                                                                  \n",
       "024 Pharma, Inc. (OTCPK:EEIG)                                                                 -0.5250         \n",
       "1-800-FLOWERS.COM, Inc. (NasdaqGS:FLWS)                                                       31.4000         \n",
       "1347 Property Insurance Holdings, Inc. (NasdaqG...                                             1.7682         \n",
       "2050 Motors, Inc. (OTCPK:ETFM)                                                                -0.3936         \n",
       "22nd Century Group, Inc. (AMEX:XXII)                                                          -0.8140         \n",
       "\n",
       "                                                    EBITDA - Capital IQ [CY 2010] ($USDmm, Historical rate)  \\\n",
       "Company Name                                                                                                  \n",
       "024 Pharma, Inc. (OTCPK:EEIG)                                                                 -0.5420         \n",
       "1-800-FLOWERS.COM, Inc. (NasdaqGS:FLWS)                                                       28.8000         \n",
       "1347 Property Insurance Holdings, Inc. (NasdaqG...                                             1.7682         \n",
       "2050 Motors, Inc. (OTCPK:ETFM)                                                                -0.3936         \n",
       "22nd Century Group, Inc. (AMEX:XXII)                                                          -0.9330         \n",
       "\n",
       "                                                    EBITDA - Capital IQ [CY 2011] ($USDmm, Historical rate)  \\\n",
       "Company Name                                                                                                  \n",
       "024 Pharma, Inc. (OTCPK:EEIG)                                                                 -0.4400         \n",
       "1-800-FLOWERS.COM, Inc. (NasdaqGS:FLWS)                                                       33.5000         \n",
       "1347 Property Insurance Holdings, Inc. (NasdaqG...                                             1.7682         \n",
       "2050 Motors, Inc. (OTCPK:ETFM)                                                                -0.3936         \n",
       "22nd Century Group, Inc. (AMEX:XXII)                                                          -3.5800         \n",
       "\n",
       "                                                    EBITDA - Capital IQ [CY 2012] ($USDmm, Historical rate)  \\\n",
       "Company Name                                                                                                  \n",
       "024 Pharma, Inc. (OTCPK:EEIG)                                                                  -0.368         \n",
       "1-800-FLOWERS.COM, Inc. (NasdaqGS:FLWS)                                                        42.300         \n",
       "1347 Property Insurance Holdings, Inc. (NasdaqG...                                              0.000         \n",
       "2050 Motors, Inc. (OTCPK:ETFM)                                                                  0.000         \n",
       "22nd Century Group, Inc. (AMEX:XXII)                                                           -3.050         \n",
       "\n",
       "                                                    EBITDA - Capital IQ [CY 2013] ($USDmm, Historical rate)  \\\n",
       "Company Name                                                                                                  \n",
       "024 Pharma, Inc. (OTCPK:EEIG)                                                                  -0.295         \n",
       "1-800-FLOWERS.COM, Inc. (NasdaqGS:FLWS)                                                        46.400         \n",
       "1347 Property Insurance Holdings, Inc. (NasdaqG...                                             -1.130         \n",
       "2050 Motors, Inc. (OTCPK:ETFM)                                                                  0.000         \n",
       "22nd Century Group, Inc. (AMEX:XXII)                                                            1.960         \n",
       "\n",
       "                                                    EBITDA - Capital IQ [CY 2014] ($USDmm, Historical rate)  \\\n",
       "Company Name                                                                                                  \n",
       "024 Pharma, Inc. (OTCPK:EEIG)                                                                  -0.398         \n",
       "1-800-FLOWERS.COM, Inc. (NasdaqGS:FLWS)                                                       103.400         \n",
       "1347 Property Insurance Holdings, Inc. (NasdaqG...                                              5.760         \n",
       "2050 Motors, Inc. (OTCPK:ETFM)                                                                 -0.534         \n",
       "22nd Century Group, Inc. (AMEX:XXII)                                                          -11.300         \n",
       "\n",
       "                                                    EBITDA - Capital IQ [CY 2015] ($USDmm, Historical rate)  \\\n",
       "Company Name                                                                                                  \n",
       "024 Pharma, Inc. (OTCPK:EEIG)                                                                  -0.446         \n",
       "1-800-FLOWERS.COM, Inc. (NasdaqGS:FLWS)                                                        79.600         \n",
       "1347 Property Insurance Holdings, Inc. (NasdaqG...                                              3.670         \n",
       "2050 Motors, Inc. (OTCPK:ETFM)                                                                 -0.698         \n",
       "22nd Century Group, Inc. (AMEX:XXII)                                                          -11.300         \n",
       "\n",
       "                                                    EBITDA - Capital IQ [CY 2016] ($USDmm, Historical rate)  \\\n",
       "Company Name                                                                                                  \n",
       "024 Pharma, Inc. (OTCPK:EEIG)                                                                   0.624         \n",
       "1-800-FLOWERS.COM, Inc. (NasdaqGS:FLWS)                                                        78.900         \n",
       "1347 Property Insurance Holdings, Inc. (NasdaqG...                                              0.541         \n",
       "2050 Motors, Inc. (OTCPK:ETFM)                                                                 -0.736         \n",
       "22nd Century Group, Inc. (AMEX:XXII)                                                          -10.500         \n",
       "\n",
       "                                                    EBITDA - Capital IQ [CY 2017] ($USDmm, Historical rate)  \\\n",
       "Company Name                                                                                                  \n",
       "024 Pharma, Inc. (OTCPK:EEIG)                                                               -0.320778         \n",
       "1-800-FLOWERS.COM, Inc. (NasdaqGS:FLWS)                                                     70.800000         \n",
       "1347 Property Insurance Holdings, Inc. (NasdaqG...                                           1.768200         \n",
       "2050 Motors, Inc. (OTCPK:ETFM)                                                              -0.393600         \n",
       "22nd Century Group, Inc. (AMEX:XXII)                                                        -4.457556         \n",
       "\n",
       "                                                     ...     \\\n",
       "Company Name                                         ...      \n",
       "024 Pharma, Inc. (OTCPK:EEIG)                        ...      \n",
       "1-800-FLOWERS.COM, Inc. (NasdaqGS:FLWS)              ...      \n",
       "1347 Property Insurance Holdings, Inc. (NasdaqG...   ...      \n",
       "2050 Motors, Inc. (OTCPK:ETFM)                       ...      \n",
       "22nd Century Group, Inc. (AMEX:XXII)                 ...      \n",
       "\n",
       "                                                    Unlevered Free Cash Flow - Capital IQ [CY 2009] ($USDmm, Historical rate)  \\\n",
       "Company Name                                                                                                                    \n",
       "024 Pharma, Inc. (OTCPK:EEIG)                                                                   0.994                           \n",
       "1-800-FLOWERS.COM, Inc. (NasdaqGS:FLWS)                                                        47.500                           \n",
       "1347 Property Insurance Holdings, Inc. (NasdaqG...                                              6.218                           \n",
       "2050 Motors, Inc. (OTCPK:ETFM)                                                                 -0.131                           \n",
       "22nd Century Group, Inc. (AMEX:XXII)                                                            0.219                           \n",
       "\n",
       "                                                    Unlevered Free Cash Flow - Capital IQ [CY 2010] ($USDmm, Historical rate)  \\\n",
       "Company Name                                                                                                                    \n",
       "024 Pharma, Inc. (OTCPK:EEIG)                                                                  -1.490                           \n",
       "1-800-FLOWERS.COM, Inc. (NasdaqGS:FLWS)                                                         5.470                           \n",
       "1347 Property Insurance Holdings, Inc. (NasdaqG...                                              6.218                           \n",
       "2050 Motors, Inc. (OTCPK:ETFM)                                                                 -0.131                           \n",
       "22nd Century Group, Inc. (AMEX:XXII)                                                            0.110                           \n",
       "\n",
       "                                                    Unlevered Free Cash Flow - Capital IQ [CY 2011] ($USDmm, Historical rate)  \\\n",
       "Company Name                                                                                                                    \n",
       "024 Pharma, Inc. (OTCPK:EEIG)                                                                  -0.152                           \n",
       "1-800-FLOWERS.COM, Inc. (NasdaqGS:FLWS)                                                        24.700                           \n",
       "1347 Property Insurance Holdings, Inc. (NasdaqG...                                              6.218                           \n",
       "2050 Motors, Inc. (OTCPK:ETFM)                                                                 -0.131                           \n",
       "22nd Century Group, Inc. (AMEX:XXII)                                                           -4.280                           \n",
       "\n",
       "                                                    Unlevered Free Cash Flow - Capital IQ [CY 2012] ($USDmm, Historical rate)  \\\n",
       "Company Name                                                                                                                    \n",
       "024 Pharma, Inc. (OTCPK:EEIG)                                                                  -0.121                           \n",
       "1-800-FLOWERS.COM, Inc. (NasdaqGS:FLWS)                                                        24.600                           \n",
       "1347 Property Insurance Holdings, Inc. (NasdaqG...                                              0.000                           \n",
       "2050 Motors, Inc. (OTCPK:ETFM)                                                                 -0.131                           \n",
       "22nd Century Group, Inc. (AMEX:XXII)                                                           -1.020                           \n",
       "\n",
       "                                                    Unlevered Free Cash Flow - Capital IQ [CY 2013] ($USDmm, Historical rate)  \\\n",
       "Company Name                                                                                                                    \n",
       "024 Pharma, Inc. (OTCPK:EEIG)                                                                  -0.065                           \n",
       "1-800-FLOWERS.COM, Inc. (NasdaqGS:FLWS)                                                        16.500                           \n",
       "1347 Property Insurance Holdings, Inc. (NasdaqG...                                              6.750                           \n",
       "2050 Motors, Inc. (OTCPK:ETFM)                                                                  0.000                           \n",
       "22nd Century Group, Inc. (AMEX:XXII)                                                           -1.840                           \n",
       "\n",
       "                                                    Unlevered Free Cash Flow - Capital IQ [CY 2014] ($USDmm, Historical rate)  \\\n",
       "Company Name                                                                                                                    \n",
       "024 Pharma, Inc. (OTCPK:EEIG)                                                                  -0.785                           \n",
       "1-800-FLOWERS.COM, Inc. (NasdaqGS:FLWS)                                                       104.000                           \n",
       "1347 Property Insurance Holdings, Inc. (NasdaqG...                                             13.500                           \n",
       "2050 Motors, Inc. (OTCPK:ETFM)                                                                 -0.350                           \n",
       "22nd Century Group, Inc. (AMEX:XXII)                                                           -5.750                           \n",
       "\n",
       "                                                    Unlevered Free Cash Flow - Capital IQ [CY 2015] ($USDmm, Historical rate)  \\\n",
       "Company Name                                                                                                                    \n",
       "024 Pharma, Inc. (OTCPK:EEIG)                                                                   0.227                           \n",
       "1-800-FLOWERS.COM, Inc. (NasdaqGS:FLWS)                                                        21.800                           \n",
       "1347 Property Insurance Holdings, Inc. (NasdaqG...                                              9.080                           \n",
       "2050 Motors, Inc. (OTCPK:ETFM)                                                                 -0.450                           \n",
       "22nd Century Group, Inc. (AMEX:XXII)                                                           -2.030                           \n",
       "\n",
       "                                                    Unlevered Free Cash Flow - Capital IQ [CY 2016] ($USDmm, Historical rate)  \\\n",
       "Company Name                                                                                                                    \n",
       "024 Pharma, Inc. (OTCPK:EEIG)                                                                 -0.3465                           \n",
       "1-800-FLOWERS.COM, Inc. (NasdaqGS:FLWS)                                                       23.9000                           \n",
       "1347 Property Insurance Holdings, Inc. (NasdaqG...                                             1.7600                           \n",
       "2050 Motors, Inc. (OTCPK:ETFM)                                                                 0.2760                           \n",
       "22nd Century Group, Inc. (AMEX:XXII)                                                          -5.7700                           \n",
       "\n",
       "                                                    Unlevered Free Cash Flow - Capital IQ [CY 2017] ($USDmm, Historical rate)  \\\n",
       "Company Name                                                                                                                    \n",
       "024 Pharma, Inc. (OTCPK:EEIG)                                                               -0.346500                           \n",
       "1-800-FLOWERS.COM, Inc. (NasdaqGS:FLWS)                                                     77.600000                           \n",
       "1347 Property Insurance Holdings, Inc. (NasdaqG...                                           6.218000                           \n",
       "2050 Motors, Inc. (OTCPK:ETFM)                                                              -0.131000                           \n",
       "22nd Century Group, Inc. (AMEX:XXII)                                                        -2.262333                           \n",
       "\n",
       "                                                    default  \n",
       "Company Name                                                 \n",
       "024 Pharma, Inc. (OTCPK:EEIG)                             0  \n",
       "1-800-FLOWERS.COM, Inc. (NasdaqGS:FLWS)                   0  \n",
       "1347 Property Insurance Holdings, Inc. (NasdaqG...        0  \n",
       "2050 Motors, Inc. (OTCPK:ETFM)                            0  \n",
       "22nd Century Group, Inc. (AMEX:XXII)                      0  \n",
       "\n",
       "[5 rows x 71 columns]"
      ]
     },
     "execution_count": 21,
     "metadata": {},
     "output_type": "execute_result"
    }
   ],
   "source": [
    "finalData.head(5)"
   ]
  },
  {
   "cell_type": "code",
   "execution_count": 22,
   "metadata": {},
   "outputs": [
    {
     "data": {
      "text/plain": [
       "(2509, 71)"
      ]
     },
     "execution_count": 22,
     "metadata": {},
     "output_type": "execute_result"
    }
   ],
   "source": [
    "finalData.shape"
   ]
  },
  {
   "cell_type": "code",
   "execution_count": 23,
   "metadata": {},
   "outputs": [],
   "source": [
    "# Randomly splitting data into training and test\n",
    "np.random.seed(1)\n",
    "sampleIndex = np.random.randint(0,2,size=finalData.shape[0])\n",
    "\n",
    "sampleIndex = np.array(sampleIndex,dtype=np.bool)\n",
    "\n",
    "traning = finalData[~sampleIndex]\n",
    "test    = finalData[sampleIndex]"
   ]
  },
  {
   "cell_type": "code",
   "execution_count": 25,
   "metadata": {
    "collapsed": true
   },
   "outputs": [],
   "source": [
    "# Fit logistic regression\n",
    "from sklearn import datasets, linear_model\n",
    "\n",
    "regr = linear_model.LogisticRegression()\n",
    "\n",
    "regr.fit(traning.iloc[:,:-1],traning.iloc[:,-1])"
   ]
  },
  {
   "cell_type": "code",
   "execution_count": 36,
   "metadata": {},
   "outputs": [
    {
     "data": {
      "text/plain": [
       "0.12183156173344234"
      ]
     },
     "execution_count": 36,
     "metadata": {},
     "output_type": "execute_result"
    }
   ],
   "source": [
    "errorRate = 1 - regr.score(test.iloc[:,:-1],test.iloc[:,-1])\n",
    "errorRate"
   ]
  },
  {
   "cell_type": "code",
   "execution_count": 30,
   "metadata": {},
   "outputs": [
    {
     "name": "stderr",
     "output_type": "stream",
     "text": [
      "/Library/Frameworks/Python.framework/Versions/3.6/lib/python3.6/site-packages/sklearn/tree/tree.py:282: DeprecationWarning: The min_impurity_split parameter is deprecated and will be removed in version 0.21. Use the min_impurity_decrease parameter instead.\n",
      "  DeprecationWarning)\n"
     ]
    },
    {
     "data": {
      "text/plain": [
       "DecisionTreeClassifier(class_weight=None, criterion='gini', max_depth=8,\n",
       "            max_features=None, max_leaf_nodes=None,\n",
       "            min_impurity_decrease=0.0, min_impurity_split=0.01,\n",
       "            min_samples_leaf=20, min_samples_split=2,\n",
       "            min_weight_fraction_leaf=0.0, presort=False, random_state=None,\n",
       "            splitter='best')"
      ]
     },
     "execution_count": 30,
     "metadata": {},
     "output_type": "execute_result"
    }
   ],
   "source": [
    "# Fit decision tree classifier and set tuning parameter with values provided \n",
    "from sklearn import tree\n",
    "clf = tree.DecisionTreeClassifier(max_depth=8,min_samples_leaf=20,min_impurity_split=0.01)\n",
    "clf.fit(traning.iloc[:,:-1],traning.iloc[:,-1])"
   ]
  },
  {
   "cell_type": "code",
   "execution_count": 37,
   "metadata": {},
   "outputs": [
    {
     "data": {
      "text/plain": [
       "0.12101390024529846"
      ]
     },
     "execution_count": 37,
     "metadata": {},
     "output_type": "execute_result"
    }
   ],
   "source": [
    "errorRate2 = 1 - clf.score(test.iloc[:,:-1],test.iloc[:,-1])\n",
    "errorRate2"
   ]
  }
 ],
 "metadata": {
  "kernelspec": {
   "display_name": "Python 3",
   "language": "python",
   "name": "python3"
  },
  "language_info": {
   "codemirror_mode": {
    "name": "ipython",
    "version": 3
   },
   "file_extension": ".py",
   "mimetype": "text/x-python",
   "name": "python",
   "nbconvert_exporter": "python",
   "pygments_lexer": "ipython3",
   "version": "3.6.0"
  }
 },
 "nbformat": 4,
 "nbformat_minor": 2
}
